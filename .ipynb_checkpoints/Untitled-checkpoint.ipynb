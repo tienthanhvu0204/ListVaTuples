{
 "cells": [
  {
   "cell_type": "code",
   "execution_count": 1,
   "id": "6020ed32",
   "metadata": {},
   "outputs": [],
   "source": [
    "import turtle as t\n",
    "import random\n",
    "\n",
    "screen = t.Screen ()\n",
    "screen.setup (1000, 800)\n",
    "screen.title (\"Rùa chạy đua\")\n",
    "\n",
    "# Tạo biến guess bật cửa sổ để người dùng nhập vào dự đoán\n",
    "guess = screen.textinput (title = \"Dự đoán rùa màu nào chiến thắng?\", prompt = \"Nhập vào màu rùa chiến thắng. \\n\\\n",
    "(đỏ, xanh dương, xanh lá, nâu, vàng, tím)\")\n",
    "\n",
    "# tạo list color lưu màu các con rùa\n",
    "color = [\"red\", \"blue\", \"green\", \"brown\", \"yellow\", \"pink\"]\n",
    "\n",
    "# tạo list lưu y_position của các con rùa ở vị trí xuất phát\n",
    "yPosition = [100, 50, 0, -50, -100, -150]\n",
    "xPosition = -400\n",
    "\n",
    "# List lưu các vận tốc ngẫu nhiên cho rùa\n",
    "speed = [10, 20, 25, 15, 30, 5]\n",
    "\n",
    "# list lưu các con rùa\n",
    "allTurtle = []\n",
    "run = True\n",
    "\n",
    "# Thiết lập vị trí ban đầu cho rùa\n",
    "for turtle in range (0, 6):\n",
    "    turtles = t.Turtle (shape = \"turtle\")\n",
    "    turtles.penup ()\n",
    "    turtles.goto (x = xPosition, y = yPosition [turtle])\n",
    "    turtles.color (color[turtle])\n",
    "\n",
    "    allTurtle.append (turtles)\n",
    "\n",
    "# Xây dựng hàm di chuyển về đích của\n",
    "# mỗi con rùa, khoảng cách di chuyển được\n",
    "# chọn ngẫu nhiên trong các giá trị\n",
    "# được lưu trong list phía trên\n",
    "def random_walk(turtles):\n",
    "    global run\n",
    "    for turtle in turtles:\n",
    "        turtle.forward(random.choice(speed))\n",
    "        # Kiểm tra điều kiện cán đích\n",
    "        # Khi 1 con cán đích thì dừng lại\n",
    "        if turtle.xcor() > 400:\n",
    "            run = False\n",
    "\n",
    "while run:\n",
    "    random_walk (allTurtle)\n",
    "\n",
    "\n",
    "t.done ()\n",
    "# screen.exitonclick ()\n"
   ]
  },
  {
   "cell_type": "code",
   "execution_count": 6,
   "id": "fe1c19fc",
   "metadata": {},
   "outputs": [
    {
     "ename": "SyntaxError",
     "evalue": "invalid syntax (2133522997.py, line 8)",
     "output_type": "error",
     "traceback": [
      "\u001b[0;36m  File \u001b[0;32m\"/var/folders/n7/6t5hqvq17gxdnn_ssg8wn5780000gn/T/ipykernel_86835/2133522997.py\"\u001b[0;36m, line \u001b[0;32m8\u001b[0m\n\u001b[0;31m    return list.[num]\u001b[0m\n\u001b[0m                ^\u001b[0m\n\u001b[0;31mSyntaxError\u001b[0m\u001b[0;31m:\u001b[0m invalid syntax\n"
     ]
    }
   ],
   "source": [
    "number = input (\"Nhập số: \")\n",
    "text = (\"không\", \"một\", \"hai\", \"ba\", \"bốn\", \"năm\", \"sáu\", \"bảy\", \"tám\", \"chín\")\n",
    "# for num in number:\n",
    "#     print (text [int (num)], end = \" \")\n",
    "def hangDonVi (num):\n",
    "    list = list (text)\n",
    "    list [5] = \"lăm\"\n",
    "    return list.[num]\n",
    "print (hangDonVi (int (number)))"
   ]
  },
  {
   "cell_type": "code",
   "execution_count": null,
   "id": "3d2963c0",
   "metadata": {},
   "outputs": [],
   "source": []
  }
 ],
 "metadata": {
  "kernelspec": {
   "display_name": "Python 3 (ipykernel)",
   "language": "python",
   "name": "python3"
  },
  "language_info": {
   "codemirror_mode": {
    "name": "ipython",
    "version": 3
   },
   "file_extension": ".py",
   "mimetype": "text/x-python",
   "name": "python",
   "nbconvert_exporter": "python",
   "pygments_lexer": "ipython3",
   "version": "3.9.7"
  }
 },
 "nbformat": 4,
 "nbformat_minor": 5
}
