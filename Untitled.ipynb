{
 "cells": [
  {
   "cell_type": "code",
   "execution_count": null,
   "id": "453bb5a0",
   "metadata": {},
   "outputs": [],
   "source": [
    "import turtle as t\n",
    "import random\n",
    "\n",
    "screen = t.Screen ()\n",
    "screen.setup (1000, 800)\n",
    "screen.title (\"Rùa chạy đua\")\n",
    "\n",
    "# Tạo biến guess bật cửa sổ để người dùng nhập vào dự đoán\n",
    "guess = screen.textinput (title = \"Dự đoán rùa màu nào chiến thắng?\", prompt = \"Nhập vào màu rùa chiến thắng. \\n\\\n",
    "(đỏ, xanh dương, xanh lá, nâu, vàng, tím)\")\n",
    "\n",
    "# tạo list color lưu màu các con rùa\n",
    "color = [\"red\", \"blue\", \"green\", \"brown\", \"yellow\", \"pink\"]\n",
    "\n",
    "# tạo list lưu y_position của các con rùa ở vị trí xuất phát\n",
    "yPosition = [100, 50, 0, -50, -100, -150]\n",
    "xPosition = -400\n",
    "\n",
    "# List lưu các vận tốc ngẫu nhiên cho rùa\n",
    "speed = [10, 20, 25, 15, 30, 5]\n",
    "\n",
    "# list lưu các con rùa\n",
    "allTurtle = []\n",
    "run = True\n",
    "\n",
    "# Thiết lập vị trí ban đầu cho rùa\n",
    "for turtle in range (0, 6):\n",
    "    turtles = t.Turtle (shape = \"turtle\")\n",
    "    turtles.penup ()\n",
    "    turtles.goto (x = xPosition, y = yPosition [turtle])\n",
    "    turtles.color (color[turtle])\n",
    "\n",
    "    allTurtle.append (turtles)\n",
    "\n",
    "# Xây dựng hàm di chuyển về đích của\n",
    "# mỗi con rùa, khoảng cách di chuyển được\n",
    "# chọn ngẫu nhiên trong các giá trị\n",
    "# được lưu trong list phía trên\n",
    "def random_walk(turtles):\n",
    "    global run\n",
    "    for turtle in turtles:\n",
    "        turtle.forward(random.choice(speed))\n",
    "        # Kiểm tra điều kiện cán đích\n",
    "        # Khi 1 con cán đích thì dừng lại\n",
    "        if turtle.xcor() > 400:\n",
    "            run = False\n",
    "\n",
    "while run:\n",
    "    random_walk (allTurtle)\n",
    "\n",
    "\n",
    "t.done ()\n",
    "# screen.exitonclick ()\n"
   ]
  },
  {
   "cell_type": "code",
   "execution_count": 45,
   "id": "6eda9d59",
   "metadata": {},
   "outputs": [
    {
     "name": "stdout",
     "output_type": "stream",
     "text": [
      "Nhập số: 1234\n",
      "một ngàn hai trăm ba mươi bốn\n"
     ]
    }
   ],
   "source": [
    "number = input (\"Nhập số: \")\n",
    "text = (\"không\", \"một\", \"hai\", \"ba\", \"bốn\", \"năm\", \"sáu\", \"bảy\", \"tám\", \"chín\")\n",
    "# for num in number:\n",
    "#     print (text [int (num)], end = \" \")\n",
    "def donVi (num):\n",
    "    donvi = list (text)\n",
    "    donvi [5] = \"lăm\"\n",
    "    return chu [num]\n",
    "def chuc (num):\n",
    "    donvi = list (text)\n",
    "    chuc = [\"\", \"mười\"] + list (text [2::])\n",
    "    for i in range (2, 10):\n",
    "        chuc [i] = chuc [i] + \" mươi\"\n",
    "    donvi [5] = \"lăm\"\n",
    "    if num [1] == \"0\":\n",
    "        doc = chuc [int (num [0])]\n",
    "    else:\n",
    "        doc = chuc [int (num [0])] + \" \" + donvi [int (num [1])]\n",
    "    return doc\n",
    "def tram (num):\n",
    "    tram = [\"\"] + list (text [1::])\n",
    "    for i in range (1, 10):\n",
    "        tram [i] = tram [i] + \" trăm\"\n",
    "    doc = tram [int (num [0])] + \" \" + chuc (num [1::])\n",
    "    return doc\n",
    "def ngan (num):\n",
    "    ngan = [\"\"] + list (text [1::])\n",
    "    for i in range (1, 10):\n",
    "        ngan [i] = ngan [i] + \" ngàn\"\n",
    "    doc = ngan [int (num [0])] + \" \" + tram (num [1::])\n",
    "    return doc\n",
    "print (ngan (number))"
   ]
  },
  {
   "cell_type": "code",
   "execution_count": 1,
   "id": "1555e326",
   "metadata": {},
   "outputs": [
    {
     "name": "stdout",
     "output_type": "stream",
     "text": [
      "A hihi, tôi mạnh mẽ.\n"
     ]
    }
   ],
   "source": [
    "tuoi = int (input (\"Nhập tuổi: \"))\n",
    "if tuoi >= 18:\n",
    "    gioitinh = input (\"Nhập giới tính\")\n",
    "    if gioitinh == \"nam\":\n",
    "        print (\"A hihi, tôi mạnh mẽ.\")\n",
    "    elif gioitinh == \"nữ\":\n",
    "        print (\"Beautiful\")\n",
    "    else:\n",
    "        print (\"Không biết giới tính.\")\n",
    "else:\n",
    "    print (\"Không đủ tuổi.\")"
   ]
  },
  {
   "cell_type": "code",
   "execution_count": 5,
   "id": "42b19004",
   "metadata": {},
   "outputs": [
    {
     "name": "stdout",
     "output_type": "stream",
     "text": [
      "[100, 310.28, 27.0, 1000] ['Mobile', 'Laptop', 'Camera', 'Speakers', 'Television', 'Laptop Case', 'Camera Lens']\n",
      "[27.0, 100, 310.28, 1000] ['Camera', 'Camera Lens', 'Laptop', 'Laptop Case', 'Mobile', 'Speakers', 'Television']\n",
      "[1000, 310.28, 100, 27.0] ['Television', 'Speakers', 'Mobile', 'Laptop Case', 'Laptop', 'Camera Lens', 'Camera']\n"
     ]
    }
   ],
   "source": [
    "gadgets = [\"Mobile\", \"Laptop\", 100, \"Camera\", 310.28, \"Speakers\", 27.00, \"Television\", 1000, \"Laptop Case\", \"Camera Lens\"]\n",
    "numList =[]\n",
    "strList = []\n",
    "for gadget in gadgets:\n",
    "    # print (type (gadget))\n",
    "    if type (gadget) == int or type (gadget) == float:\n",
    "        numList.append (gadget)\n",
    "    else:\n",
    "        strList.append (gadget)\n",
    "print (numList, strList)\n",
    "numList.sort ()\n",
    "strList.sort ()\n",
    "print (numList, strList)\n",
    "numList.sort (reverse=True)\n",
    "strList.sort (reverse=True)\n",
    "print (numList, strList)"
   ]
  },
  {
   "cell_type": "code",
   "execution_count": 34,
   "id": "eb54fac7",
   "metadata": {},
   "outputs": [
    {
     "name": "stdout",
     "output_type": "stream",
     "text": [
      "0.51255\n"
     ]
    }
   ],
   "source": [
    "import datetime\n",
    "import time\n",
    "time0 = time.time ()\n",
    "N = -1000000\n",
    "while N < 1000000:\n",
    "    N+=1\n",
    "time = time.time () - time0\n",
    "print (round (float.conjugate (time), 5))\n"
   ]
  },
  {
   "cell_type": "code",
   "execution_count": 36,
   "id": "021641d7",
   "metadata": {},
   "outputs": [
    {
     "data": {
      "text/plain": [
       "True"
      ]
     },
     "execution_count": 36,
     "metadata": {},
     "output_type": "execute_result"
    }
   ],
   "source": [
    "colors = [\"red\", \"green\", \"blue\", \"orange\", \"black\", \"violet\"]\n",
    "end = \"red\"\n",
    "end in colors"
   ]
  },
  {
   "cell_type": "code",
   "execution_count": null,
   "id": "c58db7a9",
   "metadata": {},
   "outputs": [],
   "source": []
  }
 ],
 "metadata": {
  "kernelspec": {
   "display_name": "Python 3 (ipykernel)",
   "language": "python",
   "name": "python3"
  },
  "language_info": {
   "codemirror_mode": {
    "name": "ipython",
    "version": 3
   },
   "file_extension": ".py",
   "mimetype": "text/x-python",
   "name": "python",
   "nbconvert_exporter": "python",
   "pygments_lexer": "ipython3",
   "version": "3.10.4"
  }
 },
 "nbformat": 4,
 "nbformat_minor": 5
}
